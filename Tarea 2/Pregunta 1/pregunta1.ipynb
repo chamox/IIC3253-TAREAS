{
 "cells": [
  {
   "cell_type": "code",
   "execution_count": 17,
   "metadata": {},
   "outputs": [],
   "source": [
    "from Crypto.Cipher import AES"
   ]
  },
  {
   "cell_type": "code",
   "execution_count": 18,
   "metadata": {},
   "outputs": [],
   "source": [
    "def AES_128(k, m):\n",
    "    alg = AES.new(k, AES.MODE_ECB)\n",
    "    return alg.encrypt(m)"
   ]
  },
  {
   "cell_type": "code",
   "execution_count": 19,
   "metadata": {},
   "outputs": [],
   "source": [
    "def davies_meyer(encrypt, l_key, l_message):\n",
    "    \"\"\"\n",
    "    Arguments :\n",
    "    encrypt : an encryption function\n",
    "    l_key : length in bytes of the keys for encrypt\n",
    "    l_message : length in bytes of the messages for encrypt\n",
    "    Returns :\n",
    "    A compression function from messages of length l_key + l_message to\n",
    "    messages of length l_message , defined by using the Davies - Meyer\n",
    "    construction\n",
    "    \"\"\"\n",
    "    \n",
    "    def _xor(b1, b2):\n",
    "        \"\"\"\n",
    "        Funcion que retorna el byte de la operacion XOR entre 2 bytes\n",
    "        \"\"\"\n",
    "        \n",
    "        result = bytearray()\n",
    "        for b1, b2 in zip(b1, b2):\n",
    "            result.append(b1 ^ b2)\n",
    "\n",
    "        return result\n",
    "\n",
    "    def compression(message):\n",
    "        \"\"\"\n",
    "        Funcion que retorna el XOR entre el mensaje encriptado con u y v, y v\n",
    "        segun la construccion de davies meyer\n",
    "        \"\"\"\n",
    "\n",
    "        u = message[0:l_key] # utilizamos el tamaño de la llave\n",
    "        v = message[l_key : l_key + l_message] # el resto es el mensaje\n",
    "        enc = encrypt(u, v)\n",
    "        \n",
    "        return _xor(enc, v)\n",
    "\n",
    "    return compression"
   ]
  },
  {
   "cell_type": "code",
   "execution_count": 20,
   "metadata": {},
   "outputs": [],
   "source": [
    "def pad(message, l_block):\n",
    "    \"\"\"\n",
    "    Arguments :\n",
    "    message : message to be padded\n",
    "    l_block : length in bytes of the block\n",
    "    Returns :\n",
    "    extension of message that includes the length of message\n",
    "    ( in bytes ) in its last block\n",
    "    \"\"\"\n",
    "    \n",
    "    N = len(message)\n",
    "    tail = N % l_block\n",
    "    to_add = (l_block - tail) % l_block\n",
    "    if to_add: # si es que existen elementos para rellenar en nuestr bloque\n",
    "        message += b\"\\x01\" # agregamos un 1 al principio\n",
    "        message += b\"\\x00\" * (to_add - 1) # rellenamos con 0's hasta el final\n",
    "    msize = N % (2**l_block)\n",
    "    message += msize.to_bytes(l_block, \"big\")\n",
    "\n",
    "    return message"
   ]
  },
  {
   "cell_type": "code",
   "execution_count": 21,
   "metadata": {},
   "outputs": [],
   "source": [
    "def merkle_damgard(IV, comp, l_block):\n",
    "    \"\"\"\n",
    "    Arguments :\n",
    "    IV : initialization vector for a hash function\n",
    "    comp : compression function to be used in the Merkle - Damgard\n",
    "    construction\n",
    "    l_block : length in bytes of the blocks to be used in the Merkle - Damgard\n",
    "    construction\n",
    "    Returns :\n",
    "    A hash function for messages of arbitrary length , defined by using\n",
    "    the Merkle - Damgard construction\n",
    "    \"\"\"\n",
    "    \n",
    "    def hash_func(message):\n",
    "        padded_message = pad(message, l_block)\n",
    "        nblocks = len(padded_message) // l_block\n",
    "        Hi = IV #definimos el vector de inicio\n",
    "        for i in range(nblocks): # encriptamos por bloque\n",
    "            mi = padded_message[i*l_block:(i+1)*l_block]\n",
    "            Hi = comp(mi + Hi)\n",
    "        return Hi\n",
    "    return hash_func"
   ]
  },
  {
   "cell_type": "markdown",
   "metadata": {},
   "source": [
    "# Tests"
   ]
  },
  {
   "cell_type": "code",
   "execution_count": 29,
   "metadata": {},
   "outputs": [
    {
     "name": "stdout",
     "output_type": "stream",
     "text": [
      "bytearray(b'\\xe4MC\\xd5\\xc8\\xbfv\\xe3a\\xf1\\xf6w\\x94\\xa5\\xac\\x9b')\n",
      "bytearray(b'As\\xa0#$\\x19\\xb5K.d\\xc4\\xeb7]\\xf7H')\n"
     ]
    }
   ],
   "source": [
    "if __name__ == \"__main__\": \n",
    "\n",
    "    compresion = davies_meyer(AES_128, 16, 16)\n",
    "    \n",
    "    hash = merkle_damgard(b\"0123456789012345\", compresion, 16)\n",
    "    \n",
    "    h1 = hash(b\"Este es un mensaje de prueba para la tarea 2\")\n",
    "    h2 = hash(b\"Este es un segundo mensaje de prueba para la tarea 2\")\n",
    "    \n",
    "    print(h1)\n",
    "    print(h2)"
   ]
  }
 ],
 "metadata": {
  "kernelspec": {
   "display_name": "Python 3",
   "language": "python",
   "name": "python3"
  },
  "language_info": {
   "codemirror_mode": {
    "name": "ipython",
    "version": 3
   },
   "file_extension": ".py",
   "mimetype": "text/x-python",
   "name": "python",
   "nbconvert_exporter": "python",
   "pygments_lexer": "ipython3",
   "version": "3.7.3"
  }
 },
 "nbformat": 4,
 "nbformat_minor": 2
}
