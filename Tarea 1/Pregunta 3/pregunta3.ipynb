{
  "nbformat": 4,
  "nbformat_minor": 0,
  "metadata": {
    "colab": {
      "name": "pregunta3.ipynb",
      "provenance": [],
      "collapsed_sections": []
    },
    "kernelspec": {
      "name": "python3",
      "display_name": "Python 3"
    },
    "language_info": {
      "name": "python"
    }
  },
  "cells": [
    {
      "cell_type": "markdown",
      "source": [
        "# Pregunta 3"
      ],
      "metadata": {
        "id": "LuUwZNVBrpJW"
      }
    },
    {
      "cell_type": "markdown",
      "source": [
        "#### Nombre: Samuel Zúñiga\n",
        "#### Número de alumno: 16637747"
      ],
      "metadata": {
        "id": "uw44JazcMVJ0"
      }
    },
    {
      "cell_type": "code",
      "source": [
        "import copy"
      ],
      "metadata": {
        "id": "fd4RD46JUJY7"
      },
      "execution_count": 3,
      "outputs": []
    },
    {
      "cell_type": "markdown",
      "source": [
        "Primero definimos la clase nodo de nuestro árbol."
      ],
      "metadata": {
        "id": "99huSeUiMX2s"
      }
    },
    {
      "cell_type": "code",
      "source": [
        "class Node(object):\n",
        "    def __init__(self, value):\n",
        "        self.value = value\n",
        "        self.parent = None\n",
        "        self.left = None\n",
        "        self.right = None\n",
        "        self.is_right=None\n",
        "\n",
        "    def __str__(self):\n",
        "      return str(self.value)"
      ],
      "metadata": {
        "id": "BAyVEySP0Fgd"
      },
      "execution_count": 4,
      "outputs": []
    },
    {
      "cell_type": "code",
      "execution_count": 14,
      "metadata": {
        "id": "x5w9NzxVmPrQ"
      },
      "outputs": [],
      "source": [
        "class MerkleTree :\n",
        "\n",
        "  def __init__(self , strings, hash_func):\n",
        "\n",
        "    self.hash_func = hash_func\n",
        "    \n",
        "    # seteamos el valor de nuestros nodos hojas\n",
        "    nodes = list()\n",
        "\n",
        "    for s in strings:\n",
        "      n = Node(value=self.hash_func(s))\n",
        "      nodes.append(n)\n",
        "\n",
        "    # vemos el caso para cuando tenemos un número impar de nodos en el nivel\n",
        "    if len(nodes) % 2 != 0:\n",
        "        nodes.append(copy.deepcopy(nodes[-1]))\n",
        "    self.leaves = nodes\n",
        "\n",
        "    # mientras no este en mi nodo raiz\n",
        "    while len(nodes) != 1: \n",
        "      upper_level = list()\n",
        "      \n",
        "      # verificamos nuevamente que nuestro nivel sea par\n",
        "      if len(nodes) % 2 != 0:\n",
        "        nodes.append(copy.deepcopy(nodes[-1]))\n",
        "\n",
        "      # recorremos cada 2 nodos para ir asignando valores a los atributos del nodo\n",
        "      for i in range(len(nodes)//2):\n",
        "        n1 = nodes[2*i]\n",
        "        n2 = nodes[2*i+1]\n",
        "\n",
        "        val = self.hash_func(n1.value + n2.value)\n",
        "\n",
        "        n_parent = Node(value=val)\n",
        "\n",
        "        n1.parent = n_parent\n",
        "        n1.is_right = False\n",
        "\n",
        "        n2.parent = n_parent\n",
        "        n2.is_right = True \n",
        "\n",
        "        n_parent.left = n1\n",
        "        n_parent.right = n2\n",
        "\n",
        "        upper_level.append(n_parent)\n",
        "\n",
        "      # subimos de nivel en el arbol\n",
        "      nodes = upper_level\n",
        "\n",
        "    \n",
        "    self.root = nodes[0]\n",
        "\n",
        "  def get_root(self) :\n",
        "    \"\"\"\n",
        "    Returns :\n",
        "    root : Root of the Merkle Tree\n",
        "    \"\"\"\n",
        "    return self.root\n",
        "\n",
        "\n",
        "  def get_proof_for (self , item):\n",
        "    \"\"\"\n",
        "    Returns :\n",
        "    result : None if the item is not part of the leafs of the tree\n",
        "    A list with the necessary info to prove that the\n",
        "    item is part of the leafs of the tree\n",
        "    \"\"\"\n",
        "\n",
        "    # creamos la lista de instrucciones a retornar\n",
        "    instructions = list()\n",
        "\n",
        "    hashed_item = self.hash_func(item)\n",
        "\n",
        "    item_node = None\n",
        "\n",
        "    found = False\n",
        "\n",
        "    # si tenemos el valor en las hojas podemos seguir haciendo la prueba\n",
        "    for l in self.leaves:\n",
        "      if hashed_item == l.value:\n",
        "        found=True\n",
        "\n",
        "    # si no tenemos el valor en nuestras hojas retornamos None\n",
        "    if found == False:\n",
        "      return None\n",
        "\n",
        "    \n",
        "    for n in self.leaves:\n",
        "      if n.value == hashed_item:\n",
        "        item_node = n\n",
        "\n",
        "    #tengo el nodo, debo comenzar a hacer las instrucciones\n",
        "\n",
        "    current_node = item_node\n",
        "\n",
        "    while current_node.value != self.root.value:\n",
        "\n",
        "      # agregamos al nodo hermano y su posición \n",
        "      if current_node.is_right:\n",
        "        instructions.append(tuple([current_node.parent.left.value, \"i\"]))\n",
        "      else:\n",
        "        instructions.append(tuple([current_node.parent.right.value, \"d\"]))\n",
        "\n",
        "      current_node = current_node.parent\n",
        "\n",
        "    return instructions"
      ]
    },
    {
      "cell_type": "code",
      "source": [
        "def verify(root, item, proof, hash_func):\n",
        "\n",
        "    # hasheamos nuestro item para comenzar a hacer el nodo raíz candidato\n",
        "    curr = hash_func(item)\n",
        "\n",
        "    # debido a la construcción del arbol, podemos ir construyendo la raiz dependiendo de la orientación del nodo\n",
        "    for instruction in proof:\n",
        "        if instruction[1] == \"d\":\n",
        "            curr = hash_func(curr + instruction[0])\n",
        "        elif instruction[1] == \"i\":\n",
        "            curr = hash_func(instruction[0] + curr)\n",
        "\n",
        "    if curr == root.value:\n",
        "        return True\n",
        "    else:\n",
        "        return False"
      ],
      "metadata": {
        "id": "Wq6jjxvDuBsn"
      },
      "execution_count": 6,
      "outputs": []
    },
    {
      "cell_type": "markdown",
      "source": [
        "Algunos tests:"
      ],
      "metadata": {
        "id": "Lsma3-ffrawD"
      }
    },
    {
      "cell_type": "code",
      "source": [
        "# strings = [\"s1\",\"s2\",\"s3\",\"s4\",\"s5\",\"s6\"]"
      ],
      "metadata": {
        "id": "iBSRGIGlrep7"
      },
      "execution_count": 15,
      "outputs": []
    },
    {
      "cell_type": "code",
      "source": [
        "# def hash_func(string):\n",
        "#   return \"h(\"+string+\")\""
      ],
      "metadata": {
        "id": "ki1mfdcYrh5G"
      },
      "execution_count": 16,
      "outputs": []
    },
    {
      "cell_type": "code",
      "source": [
        "# mt = MerkleTree(strings,hash_func)"
      ],
      "metadata": {
        "id": "tAH4ogjLpfq8"
      },
      "execution_count": 17,
      "outputs": []
    },
    {
      "cell_type": "code",
      "source": [
        "# root = mt.get_root()"
      ],
      "metadata": {
        "id": "AG_zFbWxp4KT"
      },
      "execution_count": 18,
      "outputs": []
    },
    {
      "cell_type": "code",
      "source": [
        "# print(root)"
      ],
      "metadata": {
        "id": "BWCOw1hqrD0h"
      },
      "execution_count": 24,
      "outputs": []
    },
    {
      "cell_type": "code",
      "source": [
        "# proof = mt.get_proof_for(\"s5\")"
      ],
      "metadata": {
        "id": "eK-_SN-yutUX"
      },
      "execution_count": 20,
      "outputs": []
    },
    {
      "cell_type": "code",
      "source": [
        "# print(proof)"
      ],
      "metadata": {
        "id": "0ew6NYTnux1g"
      },
      "execution_count": 25,
      "outputs": []
    },
    {
      "cell_type": "code",
      "source": [
        "# verify(root,\"s1\",proof,hash_func)"
      ],
      "metadata": {
        "id": "6oGHLBxtu1mP"
      },
      "execution_count": 26,
      "outputs": []
    },
    {
      "cell_type": "code",
      "source": [
        "# verify(root,\"s5\",proof,hash_func)"
      ],
      "metadata": {
        "id": "px0Ypyzzt9DC"
      },
      "execution_count": 27,
      "outputs": []
    }
  ]
}