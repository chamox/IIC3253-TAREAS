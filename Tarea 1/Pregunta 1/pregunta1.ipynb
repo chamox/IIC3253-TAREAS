{
  "nbformat": 4,
  "nbformat_minor": 0,
  "metadata": {
    "colab": {
      "name": "pregunta1.ipynb",
      "provenance": [],
      "collapsed_sections": []
    },
    "kernelspec": {
      "name": "python3",
      "display_name": "Python 3"
    },
    "language_info": {
      "name": "python"
    }
  },
  "cells": [
    {
      "cell_type": "markdown",
      "source": [
        "# Pregunta 1"
      ],
      "metadata": {
        "id": "WNVK9nPXvWor"
      }
    },
    {
      "cell_type": "markdown",
      "source": [
        "#### Nombre: Samuel Zúñiga\n",
        "#### Número de alumno: 16637747"
      ],
      "metadata": {
        "id": "U6XSr1tI8yFH"
      }
    },
    {
      "cell_type": "markdown",
      "source": [
        "Importante: La mayoría del código expuesto en esta respuesta fue extraído de las clases de cátedra hechas por el profesor Martín Ugarte."
      ],
      "metadata": {
        "id": "f4hD2LKk1jnl"
      }
    },
    {
      "cell_type": "markdown",
      "source": [
        "En primer lugar, tenemos las frecuencias de las letras en el lenguaje inglés."
      ],
      "metadata": {
        "id": "EJOit-OA1V6h"
      }
    },
    {
      "cell_type": "code",
      "source": [
        "_DICT = {\n",
        "    'A': .082, 'B': .015, 'C': .028, 'D': .043,  'E': .13,    'F': .022, \n",
        "    'G': .02,  'H': .061, 'I': .07,  'J': .0015, 'K': .0077,  'L': .04,   \n",
        "    'M': .024, 'N': .067, 'O': .075, 'P': .019,  'Q': .00095, 'R': .06,   \n",
        "    'S': .063, 'T': .091, 'U': .028, 'V': .0098, 'W': .024,   'X': .0015, \n",
        "    'Y': .02,  'Z': .00074\n",
        "}"
      ],
      "metadata": {
        "id": "ECVazRlLmGnD"
      },
      "execution_count": null,
      "outputs": []
    },
    {
      "cell_type": "markdown",
      "source": [
        "Funciones auxiliares y otras dadas en el enunciado."
      ],
      "metadata": {
        "id": "vVs6G5KH1u9V"
      }
    },
    {
      "cell_type": "code",
      "execution_count": null,
      "metadata": {
        "id": "c66O5aLxAoQL"
      },
      "outputs": [],
      "source": [
        "def char_probability(char, frequencies):\n",
        "    return frequencies[char]"
      ]
    },
    {
      "cell_type": "code",
      "source": [
        "def abs_distance(string, frequencies):\n",
        "    return sum([\n",
        "        abs(frequencies[c] - string.count(c) / len(string))\n",
        "        for c in frequencies\n",
        "    ])"
      ],
      "metadata": {
        "id": "cGg11Vz_oMHe"
      },
      "execution_count": null,
      "outputs": []
    },
    {
      "cell_type": "markdown",
      "source": [
        "La función `most_likely_char` recibe la posición, el texto cifrado, las frecuencias del idioma y el largo de la llave. Esta función retornará el carácter de la llave más probable para la posición indicada del mensaje del texto cifrado."
      ],
      "metadata": {
        "id": "khf9cLVf2PS4"
      }
    },
    {
      "cell_type": "code",
      "source": [
        "def most_likely_char(pos, ciphertext, frequencies, key_length):\n",
        "    \"\"\"\n",
        "    Toma el alfabeto\n",
        "    \"\"\"\n",
        "    alphabet = [*frequencies.keys()]\n",
        "\n",
        "    to_decrypt = [                                                              # todos los char del chiphertext que va a desencriptar un char especifico de la key\n",
        "        ciphertext[i * key_length + pos]\n",
        "        for i in range(len(ciphertext) // key_length)\n",
        "    ]\n",
        "\n",
        "\n",
        "    best_char = alphabet[0]                                                     # valor inicial para empezar a iterar en busca del best_char\n",
        "    best_distance = len(alphabet)                                               # partimos con la peor distancia\n",
        "\n",
        "    for candidate in alphabet:\n",
        "        char_count = {c: 0 for c in alphabet}\n",
        "        for c in to_decrypt:\n",
        "            n_c = alphabet.index(c)\n",
        "            n_candidate = alphabet.index(candidate)\n",
        "            n = (n_c - n_candidate) % len(alphabet)                             # desencriptacion para OTP\n",
        "            char_count[alphabet[n]] += 1\n",
        "\n",
        "        diff = 0\n",
        "\n",
        "        for c in alphabet:\n",
        "            prob = char_count[c] / len(to_decrypt)                              # vemos la probabilidad de la letra en el texto\n",
        "            diff += abs(char_probability(c, frequencies) - prob)                # calculamos su distancia para posteriormente buscar la menor\n",
        "            \n",
        "        if diff < best_distance:\n",
        "            best_char = candidate\n",
        "            best_distance = diff\n",
        "\n",
        "    return best_char"
      ],
      "metadata": {
        "id": "ZA0TovqYsw9X"
      },
      "execution_count": null,
      "outputs": []
    },
    {
      "cell_type": "markdown",
      "source": [
        "Con la función anterior, iteramos sobre todo el largo de la llave para encontrar la key más probable."
      ],
      "metadata": {
        "id": "K73CuBrh4mT1"
      }
    },
    {
      "cell_type": "code",
      "source": [
        "def prob_key(cipher, frequencies, key_length):\n",
        "\n",
        "    to_ret =  \"\"\n",
        "    to_ret = to_ret.join([\n",
        "                 most_likely_char(i,cipher,frequencies, key_length)\n",
        "                 for i in range(key_length)\n",
        "                ])\n",
        "    \n",
        "    return to_ret"
      ],
      "metadata": {
        "id": "1xhtBmr0hZaa"
      },
      "execution_count": null,
      "outputs": []
    },
    {
      "cell_type": "markdown",
      "source": [
        "La siguiente función decripta un texto con una llave dada."
      ],
      "metadata": {
        "id": "OBqa2sqZ5A5P"
      }
    },
    {
      "cell_type": "code",
      "source": [
        "def decrypt(cipher, prob_key, key_length, alphabet):\n",
        "\n",
        "  plain_text=\"\"\n",
        "  for i in range(len(cipher)):\n",
        "    n_c = alphabet.index(cipher[i])\n",
        "    n_k = alphabet.index(\n",
        "        prob_key[i % key_length]\n",
        "    )\n",
        "    plain_text += alphabet[(n_c - n_k) % len(alphabet)]\n",
        "  \n",
        "  return plain_text"
      ],
      "metadata": {
        "id": "M0Z5vrcHiypO"
      },
      "execution_count": null,
      "outputs": []
    },
    {
      "cell_type": "code",
      "source": [
        ""
      ],
      "metadata": {
        "id": "xg-rueuM5n-m"
      },
      "execution_count": null,
      "outputs": []
    },
    {
      "cell_type": "markdown",
      "source": [
        "La función `break_rp` recibe un texto cifrado, una frecuencia de carácteres y una función que indica cuánto dista un string de seguir una frecuencia de carácteres. En primer lugar iteraremos sobre todos los posibles largos para una llave dada, y guardaremos en un diccionario la distancia del texto decriptado a la frecuencia dada. Además haremos un diccionario con el texto y su llave. Finalmente retornaremos la llave para la cual se obtiene la mínima distancia."
      ],
      "metadata": {
        "id": "mh9AptyL5N3K"
      }
    },
    {
      "cell_type": "code",
      "source": [
        "def break_rp(ciphertext,frequencies,distance):\n",
        "    decripted_texts = dict()\n",
        "    keys_from_text = dict()\n",
        "\n",
        "    for i in range(1,len(ciphertext)//50):\n",
        "        p_key = prob_key(ciphertext, frequencies, i)\n",
        "        decripted_text = decrypt(ciphertext,p_key,i,list(frequencies.keys()))\n",
        "        decripted_texts[decripted_text] = distance(decripted_text,frequencies)\n",
        "\n",
        "        keys_from_text[decripted_text] = p_key\n",
        "\n",
        "    return keys_from_text[min(decripted_texts, key=decripted_texts.get)]"
      ],
      "metadata": {
        "id": "HRL_guIOn12q"
      },
      "execution_count": null,
      "outputs": []
    },
    {
      "cell_type": "markdown",
      "source": [
        "Algunos tests:"
      ],
      "metadata": {
        "id": "7QZt7ivI8iwZ"
      }
    },
    {
      "cell_type": "code",
      "source": [
        "# def clean(t): return t.replace(\" \", \"\").replace(\",\", \"\").replace(\"(\", \"\").replace(\")\", \"\").replace(\";\", \"\").replace(\"'\", \"\").replace(\".\", \"\").upper() # upper ya que en mi frecuencia test solo tengo mayúsculas"
      ],
      "metadata": {
        "id": "XaOMvDKIoHWI"
      },
      "execution_count": null,
      "outputs": []
    },
    {
      "cell_type": "code",
      "source": [
        "# texto_cifrado = \"cgxizjmjxsuicpubxjefnbhvquwjkqclvefhvmpqnbjeuyvcejknzkiumxrohhosfwkvtlywwlulxlljlxnkiynnvpztnzoaezltyimvtbtmveextkiumdjoimndbfeziubtikiyfzjtuzzsfcgbjfhmdeubbnkfwaizroxvgmubikfrmdjqubmveqboybltiupglztsymfvzuenfsyyzisywofbmtjefnbhvquwoyfhxvtivbofswavibwmzipzmcvqftdeuyqoztygxizjmzucsvjdccgdehcmrzubmcvdikmvtjhiujhzwzuikxybltxkflymfnnazgbxnnzoafjuvftmrexbozph\"\n",
        "# llave_utilizada = \"UTVRB\""
      ],
      "metadata": {
        "id": "83UYT47VopV0"
      },
      "execution_count": null,
      "outputs": []
    },
    {
      "cell_type": "code",
      "source": [
        "# texto_cifrado = clean(texto_cifrado)"
      ],
      "metadata": {
        "id": "k6slFEMsqCPR"
      },
      "execution_count": null,
      "outputs": []
    },
    {
      "cell_type": "code",
      "source": [
        "# break_rp(texto_cifrado, _DICT, abs_distance)"
      ],
      "metadata": {
        "id": "2W3bjVRHoVqG"
      },
      "execution_count": 1,
      "outputs": []
    }
  ]
}